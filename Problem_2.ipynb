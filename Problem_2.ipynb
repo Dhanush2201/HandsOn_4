{
 "cells": [
  {
   "cell_type": "code",
   "execution_count": 2,
   "id": "f80bb103",
   "metadata": {},
   "outputs": [
    {
     "name": "stdout",
     "output_type": "stream",
     "text": [
      "Enter sorted array elements separated by space: 2 3 3 4 3 4 5 5 6 3 5 2 4 7 4 8 6 9 6 7 7\n",
      "Sorted array with duplicates removed: [2, 3, 4, 5, 6, 7, 8, 9]\n"
     ]
    }
   ],
   "source": [
    "def remove_duplicates(arr):\n",
    "    if not arr:\n",
    "        return []\n",
    "    \n",
    "    unique_arr = [arr[0]]\n",
    "    for i in range(1, len(arr)):\n",
    "        if arr[i] != arr[i - 1]:\n",
    "            unique_arr.append(arr[i])\n",
    "    \n",
    "    return unique_arr\n",
    "\n",
    "arr = sorted(map(int, input(\"Enter sorted array elements separated by space: \").split()))\n",
    "unique_array = remove_duplicates(arr)\n",
    "print(\"Sorted array with duplicates removed:\", unique_array)\n"
   ]
  }
 ],
 "metadata": {
  "kernelspec": {
   "display_name": "Python 3 (ipykernel)",
   "language": "python",
   "name": "python3"
  },
  "language_info": {
   "codemirror_mode": {
    "name": "ipython",
    "version": 3
   },
   "file_extension": ".py",
   "mimetype": "text/x-python",
   "name": "python",
   "nbconvert_exporter": "python",
   "pygments_lexer": "ipython3",
   "version": "3.9.7"
  }
 },
 "nbformat": 4,
 "nbformat_minor": 5
}
