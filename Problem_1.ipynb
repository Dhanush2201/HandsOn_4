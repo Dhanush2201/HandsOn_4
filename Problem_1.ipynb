{
 "cells": [
  {
   "cell_type": "code",
   "execution_count": 10,
   "id": "6bd1821d",
   "metadata": {},
   "outputs": [
    {
     "name": "stdout",
     "output_type": "stream",
     "text": [
      "Enter the number of arrays (K): 3\n",
      "Enter the size of each array (N): 3\n",
      "Enter elements of array 1: 2\n",
      "Enter elements of array 2: 3 5 6 \n",
      "Enter elements of array 3: 4 2 3\n",
      "Merged sorted array: [2, 2, 3, 3, 4, 5, 6]\n"
     ]
    }
   ],
   "source": [
    "from heapq import heappush, heappop\n",
    "\n",
    "def merge_k_sorted_arrays(arrs):\n",
    "    min_heap = []\n",
    "    result = []  \n",
    "    for i, arr in enumerate(arrs):\n",
    "        if arr:\n",
    "            heappush(min_heap, (arr[0], i, 0))\n",
    "    while min_heap:\n",
    "        val, arr_idx, idx = heappop(min_heap)\n",
    "        result.append(val)    \n",
    "        idx += 1\n",
    "        if idx < len(arrs[arr_idx]):\n",
    "            heappush(min_heap, (arrs[arr_idx][idx], arr_idx, idx))\n",
    "    return result\n",
    "\n",
    "num_arrays = int(input(\"Enter the number of arrays (K): \"))\n",
    "array_size = int(input(\"Enter the size of each array (N): \"))\n",
    "\n",
    "arrays = []\n",
    "for i in range(num_arrays):\n",
    "    array = list(map(int, input(f\"Enter elements of array {i+1}: \").split()))\n",
    "    array.sort()  \n",
    "    arrays.append(array)\n",
    "\n",
    "merged_result = merge_k_sorted_arrays(arrays)\n",
    "print(\"Merged sorted array:\", merged_result)\n"
   ]
  }
 ],
 "metadata": {},
 "nbformat": 4,
 "nbformat_minor": 5
}
